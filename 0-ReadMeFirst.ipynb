{
  "cells": [
    {
      "cell_type": "markdown",
      "metadata": {},
      "source": [
        "\n",
        "\n",
        "# Ansible playbooks for Aruba AOS-CX switches using Aruba Ansible role\n",
        "\n",
        "\n",
        "# Author: [Dung K Hoang](mailto:dung.hoangkhac@hpe.com)\n",
        "\n",
        "\n",
        "The jupyter notebooks document examples of configuring Aruba AOS-CX switches using [Aruba Ansible role](https://galaxy.Ansible.com/arubanetworks/aoscx_role).\n",
        "\n",
        "\n",
        " \n",
        "# Contents\n",
        "The Jupyter notebooks use the following structure:\n",
        "* ReadMeFirst (this notebook)\n",
        "* 1 - Initial setup\n",
        "* 2 - Querying Aruba switches - TBD\n",
        "\n",
        "\n",
        "\n",
        "\n",
        "\n",
        "\n"
      ]
    }
  ],
  "metadata": {
    "kernelspec": {
      "display_name": "PowerShell",
      "language": "powershell",
      "name": "powershell"
    },
    "language_info": {
      "codemirror_mode": "shell",
      "file_extension": ".ps1",
      "mimetype": "text/x-sh",
      "name": "powershell"
    }
  },
  "nbformat": 4,
  "nbformat_minor": 4
}