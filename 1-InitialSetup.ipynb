{
 "cells": [
  {
   "cell_type": "markdown",
   "metadata": {},
   "source": [
    "#  \n",
    "\n",
    "In this notebook, we discuss about initial setup to enable REST on the switches and installiing Ansible aos-cx role\n",
    "\n",
    "  \n",
    "\n",
    "## Enable REST and ssh on Aruba switches\n",
    "\n",
    "You need to ensure that REST and ssh are enabled on those devices.\n",
    "\n",
    "Login to the switches and execute the following CLI commands"
   ]
  },
  {
   "cell_type": "code",
   "execution_count": null,
   "metadata": {},
   "outputs": [],
   "source": [
    "switch # config\n",
    "switch(config)# ssh server vrf mgmt\n",
    "switch(config)# https-server rest access-mode read-write"
   ]
  },
  {
   "cell_type": "markdown",
   "metadata": {},
   "source": [
    "## Installing Aruba aos-cx nsible role\n",
    "\n",
    "from your desktop/laptop with Internet connection, execute the following commands:"
   ]
  },
  {
   "cell_type": "code",
   "execution_count": null,
   "metadata": {},
   "outputs": [],
   "source": [
    "# update the Ansible network modules ( if needed)\n",
    "ansible-galaxy collection install ansible.netcommon -f\n",
    "# install the Ansible aos-cx role in /etc/ansible/roles\n",
    "ansible-galaxy install arubanetworks.aoscx_role -p /etc/ansible/roles\n",
    "# Ensure that all requirements are met\n",
    "ansible-galaxy install -r /etc/ansible/roles/arubanetworks.aoscx_role/requirements.yml\n"
   ]
  },
  {
   "cell_type": "markdown",
   "metadata": {},
   "source": [
    "\n",
    "## Configuring inventory of hosts \n",
    "\n",
    "Next step is to get an inventory of hosts where you want to execute playbooks against. Settings include:\n",
    "* ip address of the switch\n",
    "* username/password\n",
    "* api protocol used : REST or ssh cli\n",
    "* dependent settings based on protocol used\n",
    "\n",
    "the hosts file should be located in the Ansible path, for example /etc/ansible. Use the exampel below to create your hosts file with the YML syntax"
   ]
  },
  {
   "cell_type": "code",
   "execution_count": null,
   "metadata": {},
   "outputs": [],
   "source": [
    "all:\n",
    "  hosts:\n",
    "    rack1_aruba8325_top:\n",
    "      ansible_host: <ip_top>\n",
    "      ansible_user: <ip_user>\n",
    "      ansible_password: <ip_password>\n",
    "      ansible_network_os: aoscx\n",
    "      ansible_connection: httpapi  # REST API connection method\n",
    "      ansible_httpapi_validate_certs: False\n",
    "      ansible_httpapi_use_ssl: True\n",
    "      ansible_acx_no_proxy: True\n",
    "\n",
    "    rack1_aruba8325_bottom:\n",
    "      ansible_host: <ip_bottom>\n",
    "      ansible_user: <ip_user>\n",
    "      ansible_password: <ip_password>\n",
    "      ansible_network_os: aoscx\n",
    "      ansible_connection: network_cli  # SSH connection method\n"
   ]
  },
  {
   "cell_type": "markdown",
   "metadata": {},
   "source": [
    "Optionally, you can create individual host file that tragets a specific switches and use the parameter -i to specify a specific host.\n",
    "here is an example of individual host file:\n",
    "* rack1_aruba8325_top.yml"
   ]
  },
  {
   "cell_type": "code",
   "execution_count": null,
   "metadata": {},
   "outputs": [],
   "source": [
    "all:\n",
    "  hosts:\n",
    "    rack1_aruba8325_top:\n",
    "      ansible_host: <ip_top>\n",
    "      ansible_user: <ip_user>\n",
    "      ansible_password: <ip_password>\n",
    "      ansible_network_os: aoscx\n",
    "      ansible_connection: httpapi  # REST API connection method\n",
    "      ansible_httpapi_validate_certs: False\n",
    "      ansible_httpapi_use_ssl: True\n",
    "      ansible_acx_no_proxy: True"
   ]
  },
  {
   "source": [
    "\n",
    "* rack1_aruba8325_bottom.yml\n",
    "\n"
   ],
   "cell_type": "markdown",
   "metadata": {}
  },
  {
   "cell_type": "code",
   "execution_count": null,
   "metadata": {},
   "outputs": [],
   "source": [
    "all:\n",
    "  hosts:\n",
    "    rack1_aruba8325_bottom:\n",
    "      ansible_host: <ip_bottom>\n",
    "      ansible_user: <ip_user>\n",
    "      ansible_password: <ip_password>\n",
    "      ansible_network_os: aoscx\n",
    "      ansible_connection: network_cli  # SSH connection method\n"
   ]
  },
  {
   "source": [
    "For more information, read [using-the-aos-cx-ansible-role](https://developer.arubanetworks.com/aruba-aoscx/docs/using-the-aos-cx-ansible-role) "
   ],
   "cell_type": "markdown",
   "metadata": {}
  }
 ],
 "metadata": {
  "kernelspec": {
   "display_name": "Python 3",
   "language": "python",
   "name": "python3"
  },
  "language_info": {
   "codemirror_mode": {
    "name": "ipython",
    "version": 3
   },
   "file_extension": ".py",
   "mimetype": "text/x-python",
   "name": "python",
   "nbconvert_exporter": "python",
   "pygments_lexer": "ipython3",
   "version": "3.7.3"
  }
 },
 "nbformat": 4,
 "nbformat_minor": 4
}